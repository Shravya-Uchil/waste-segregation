{
 "cells": [
  {
   "cell_type": "code",
   "execution_count": 1,
   "metadata": {},
   "outputs": [],
   "source": [
    "import numpy"
   ]
  },
  {
   "cell_type": "code",
   "execution_count": 2,
   "metadata": {},
   "outputs": [],
   "source": [
    "import cv2"
   ]
  },
  {
   "cell_type": "code",
   "execution_count": 6,
   "metadata": {},
   "outputs": [
    {
     "name": "stdout",
     "output_type": "stream",
     "text": [
      "cb_kps : 864, cb_descriptors : (864, 64)\n",
      "gl_kps : 847, gl_descriptors : (847, 64)\n",
      "mt_kps : 272, mt_descriptors : (272, 64)\n",
      "pp_kps : 1298, pp_descriptors : (1298, 64)\n",
      "pl_kps : 147, pl_descriptors : (147, 64)\n",
      "tr_kps : 294, tr_descriptors : (294, 64)\n"
     ]
    }
   ],
   "source": [
    "from os import listdir\n",
    "from os.path import isfile, join\n",
    "#surf = cv2.xfeatures2d_SURF()\n",
    "surf = cv2.xfeatures2d.SURF_create()\n",
    "cardboard_path=''\n",
    "glass_path = ''\n",
    "metal_path = ''\n",
    "paper_path = ''\n",
    "plastic_path = ''\n",
    "trash_path = ''\n",
    "\n",
    "only_cardboard_files = [ f for f in listdir(cardboard_path) if isfile(join(cardboard_path,f)) ]\n",
    "cardboard_images = numpy.empty(len(only_cardboard_files), dtype=object)\n",
    "for n in range(0, len(only_cardboard_files)):\n",
    "    cardboard_images[n] = cv2.imread( join(cardboard_path,only_cardboard_files[n]),0 )\n",
    "    (cb_kps, cb_descs) = surf.detectAndCompute(cardboard_images[n], None)\n",
    "print(\"cb_kps : {}, cb_descriptors : {}\".format(len(cb_kps), cb_descs.shape))\n",
    "    \n",
    "only_glass_files = [ f for f in listdir(glass_path) if isfile(join(glass_path,f)) ]\n",
    "glass_images = numpy.empty(len(only_glass_files), dtype=object)\n",
    "for n in range(0, len(only_glass_files)):\n",
    "    glass_images[n] = cv2.imread( join(glass_path,only_glass_files[n]),0 )\n",
    "    (gl_kps, gl_descs) = surf.detectAndCompute(glass_images[n], None)\n",
    "print(\"gl_kps : {}, gl_descriptors : {}\".format(len(gl_kps), gl_descs.shape))\n",
    "    \n",
    "only_metal_files = [ f for f in listdir(metal_path) if isfile(join(metal_path,f)) ]\n",
    "metal_images = numpy.empty(len(only_metal_files), dtype=object)\n",
    "for n in range(0, len(only_metal_files)):\n",
    "    metal_images[n] = cv2.imread( join(metal_path,only_metal_files[n]),0 )\n",
    "    (mt_kps, mt_descs) = surf.detectAndCompute(metal_images[n], None)\n",
    "print(\"mt_kps : {}, mt_descriptors : {}\".format(len(mt_kps), mt_descs.shape))\n",
    "    \n",
    "only_paper_files = [ f for f in listdir(paper_path) if isfile(join(paper_path,f)) ]\n",
    "paper_images = numpy.empty(len(only_paper_files), dtype=object)\n",
    "for n in range(0, len(only_paper_files)):\n",
    "    paper_images[n] = cv2.imread( join(paper_path,only_paper_files[n]),0 )\n",
    "    (pp_kps, pp_descs) = surf.detectAndCompute(paper_images[n], None)\n",
    "print(\"pp_kps : {}, pp_descriptors : {}\".format(len(pp_kps), pp_descs.shape))\n",
    "    \n",
    "only_plastic_files = [ f for f in listdir(plastic_path) if isfile(join(plastic_path,f)) ]\n",
    "plastic_images = numpy.empty(len(only_plastic_files), dtype=object)\n",
    "for n in range(0, len(only_plastic_files)):\n",
    "    plastic_images[n] = cv2.imread( join(plastic_path,only_plastic_files[n]),0 )\n",
    "    (pl_kps, pl_descs) = surf.detectAndCompute(plastic_images[n], None)\n",
    "print(\"pl_kps : {}, pl_descriptors : {}\".format(len(pl_kps), pl_descs.shape))\n",
    "    \n",
    "only_trash_files = [ f for f in listdir(trash_path) if isfile(join(trash_path,f)) ]\n",
    "trash_images = numpy.empty(len(only_trash_files), dtype=object)\n",
    "for n in range(0, len(only_trash_files)):\n",
    "    trash_images[n] = cv2.imread( join(trash_path,only_trash_files[n]),0 )\n",
    "    (tr_kps, tr_descs) = surf.detectAndCompute(trash_images[n], None)\n",
    "print(\"tr_kps : {}, tr_descriptors : {}\".format(len(tr_kps), tr_descs.shape))"
   ]
  },
  {
   "cell_type": "code",
   "execution_count": null,
   "metadata": {},
   "outputs": [],
   "source": []
  }
 ],
 "metadata": {
  "kernelspec": {
   "display_name": "Python 3",
   "language": "python",
   "name": "python3"
  },
  "language_info": {
   "codemirror_mode": {
    "name": "ipython",
    "version": 3
   },
   "file_extension": ".py",
   "mimetype": "text/x-python",
   "name": "python",
   "nbconvert_exporter": "python",
   "pygments_lexer": "ipython3",
   "version": "3.7.3"
  }
 },
 "nbformat": 4,
 "nbformat_minor": 2
}
